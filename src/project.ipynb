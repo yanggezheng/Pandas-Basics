{
 "cells": [
  {
   "attachments": {},
   "cell_type": "markdown",
   "metadata": {},
   "source": [
    "## About the Data\n",
    "\n",
    "1. Name / Title: 2012 SAT Results\n",
    "2. Link to Data: https://data.cityofnewyork.us/Education/2012-SAT-Results/f9bf-2cp4\n",
    "3. Source / Origin: \n",
    "\t* Author or Creator: Department of Education (DOE)\n",
    "\t* Publication Date: February 20, 2013\n",
    "\t* Publisher: NYC OpenData\n",
    "\t* Version or Data Accessed: 1.0\n",
    "4. License: CC0: Public Domain\n",
    "5. Can You Use this Data Set for Your Intended Use Case? Yes\n",
    "\n",
    "## Format and Samples\n",
    "\n",
    "### Overview\n",
    "\n",
    "* Format: csv\n",
    "* Size: 28k\n",
    "* Number of Records: 478\n",
    "\n",
    "### Sample of Data\n",
    "\n",
    "show a few lines of data from the actual file.  ⚠️ Use \"regular\" Python to do this in this code block.  Assuming that jupyter-lab was started in your root directory: with open('../data/raw/example-data.csv', 'r')\n",
    "\n",
    "In the next cell\n",
    "\n",
    "### Fields or Column Headers\n",
    "\n",
    "* Field/Column 1: DBN String\n",
    "* Field/Column 2: SCHOOL NAME String\n",
    "* Field/Column 3: Num of SAT Test Takers\n",
    "* Field/Column 4: SAT Critical Reading Avg. Score\n",
    "* Field/Column 5: SAT Math Avg. Score\n",
    "* Field/Column 6: SAT Writing Avg. Score"
   ]
  },
  {
   "cell_type": "code",
   "execution_count": 2,
   "metadata": {},
   "outputs": [
    {
     "name": "stdout",
     "output_type": "stream",
     "text": [
      "['01M292', 'HENRY STREET SCHOOL FOR INTERNATIONAL STUDIES', '29', '355', '404', '363']\n",
      "['01M448', 'UNIVERSITY NEIGHBORHOOD HIGH SCHOOL', '91', '383', '423', '366']\n",
      "['01M450', 'EAST SIDE COMMUNITY SCHOOL', '70', '377', '402', '370']\n",
      "['01M458', 'FORSYTH SATELLITE ACADEMY', '7', '414', '401', '359']\n",
      "['01M509', 'MARTA VALLE HIGH SCHOOL', '44', '390', '433', '384']\n",
      "['01M515', 'LOWER EAST SIDE PREPARATORY HIGH SCHOOL', '112', '332', '557', '316']\n",
      "['01M539', 'NEW EXPLORATIONS INTO SCIENCE, TECHNOLOGY AND MATH HIGH SCHOOL', '159', '522', '574', '525']\n",
      "['01M650', 'CASCADES HIGH SCHOOL', '18', '417', '418', '411']\n",
      "['01M696', 'BARD HIGH SCHOOL EARLY COLLEGE', '130', '624', '604', '628']\n",
      "['02M047', '47 THE AMERICAN SIGN LANGUAGE AND ENGLISH SECONDARY SCHOOL', '16', '395', '400', '387']\n"
     ]
    }
   ],
   "source": [
    "import csv\n",
    "with open('../data/raw/2012_SAT_Results.csv', 'r') as f:\n",
    "    next(f)\n",
    "    line_count = 0\n",
    "    for line in csv.reader(f):\n",
    "        print(line)\n",
    "        line_count += 1\n",
    "        if line_count == 10:\n",
    "            break"
   ]
  },
  {
   "cell_type": "code",
   "execution_count": 3,
   "metadata": {},
   "outputs": [
    {
     "data": {
      "text/html": [
       "<div>\n",
       "<style scoped>\n",
       "    .dataframe tbody tr th:only-of-type {\n",
       "        vertical-align: middle;\n",
       "    }\n",
       "\n",
       "    .dataframe tbody tr th {\n",
       "        vertical-align: top;\n",
       "    }\n",
       "\n",
       "    .dataframe thead th {\n",
       "        text-align: right;\n",
       "    }\n",
       "</style>\n",
       "<table border=\"1\" class=\"dataframe\">\n",
       "  <thead>\n",
       "    <tr style=\"text-align: right;\">\n",
       "      <th></th>\n",
       "      <th>DBN</th>\n",
       "      <th>SCHOOL NAME</th>\n",
       "      <th>Num of SAT Test Takers</th>\n",
       "      <th>SAT Critical Reading Avg. Score</th>\n",
       "      <th>SAT Math Avg. Score</th>\n",
       "      <th>SAT Writing Avg. Score</th>\n",
       "    </tr>\n",
       "  </thead>\n",
       "  <tbody>\n",
       "    <tr>\n",
       "      <th>0</th>\n",
       "      <td>01M292</td>\n",
       "      <td>HENRY STREET SCHOOL FOR INTERNATIONAL STUDIES</td>\n",
       "      <td>29</td>\n",
       "      <td>355</td>\n",
       "      <td>404</td>\n",
       "      <td>363</td>\n",
       "    </tr>\n",
       "    <tr>\n",
       "      <th>1</th>\n",
       "      <td>01M448</td>\n",
       "      <td>UNIVERSITY NEIGHBORHOOD HIGH SCHOOL</td>\n",
       "      <td>91</td>\n",
       "      <td>383</td>\n",
       "      <td>423</td>\n",
       "      <td>366</td>\n",
       "    </tr>\n",
       "    <tr>\n",
       "      <th>2</th>\n",
       "      <td>01M450</td>\n",
       "      <td>EAST SIDE COMMUNITY SCHOOL</td>\n",
       "      <td>70</td>\n",
       "      <td>377</td>\n",
       "      <td>402</td>\n",
       "      <td>370</td>\n",
       "    </tr>\n",
       "    <tr>\n",
       "      <th>3</th>\n",
       "      <td>01M458</td>\n",
       "      <td>FORSYTH SATELLITE ACADEMY</td>\n",
       "      <td>7</td>\n",
       "      <td>414</td>\n",
       "      <td>401</td>\n",
       "      <td>359</td>\n",
       "    </tr>\n",
       "    <tr>\n",
       "      <th>4</th>\n",
       "      <td>01M509</td>\n",
       "      <td>MARTA VALLE HIGH SCHOOL</td>\n",
       "      <td>44</td>\n",
       "      <td>390</td>\n",
       "      <td>433</td>\n",
       "      <td>384</td>\n",
       "    </tr>\n",
       "  </tbody>\n",
       "</table>\n",
       "</div>"
      ],
      "text/plain": [
       "      DBN                                    SCHOOL NAME  \\\n",
       "0  01M292  HENRY STREET SCHOOL FOR INTERNATIONAL STUDIES   \n",
       "1  01M448            UNIVERSITY NEIGHBORHOOD HIGH SCHOOL   \n",
       "2  01M450                     EAST SIDE COMMUNITY SCHOOL   \n",
       "3  01M458                      FORSYTH SATELLITE ACADEMY   \n",
       "4  01M509                        MARTA VALLE HIGH SCHOOL   \n",
       "\n",
       "  Num of SAT Test Takers SAT Critical Reading Avg. Score SAT Math Avg. Score  \\\n",
       "0                     29                             355                 404   \n",
       "1                     91                             383                 423   \n",
       "2                     70                             377                 402   \n",
       "3                      7                             414                 401   \n",
       "4                     44                             390                 433   \n",
       "\n",
       "  SAT Writing Avg. Score  \n",
       "0                    363  \n",
       "1                    366  \n",
       "2                    370  \n",
       "3                    359  \n",
       "4                    384  "
      ]
     },
     "execution_count": 3,
     "metadata": {},
     "output_type": "execute_result"
    }
   ],
   "source": [
    "import pandas as pd\n",
    "df = pd.read_csv('../data/raw/2012_SAT_Results.csv')\n",
    "df.head()"
   ]
  },
  {
   "attachments": {},
   "cell_type": "markdown",
   "metadata": {},
   "source": [
    "1, filling in missing values\n",
    "\n",
    "The documentation states that the missing values were replaced by 's', I replaced 's' by '' and then drop any row with empty space"
   ]
  },
  {
   "cell_type": "code",
   "execution_count": 4,
   "metadata": {},
   "outputs": [
    {
     "data": {
      "text/html": [
       "<div>\n",
       "<style scoped>\n",
       "    .dataframe tbody tr th:only-of-type {\n",
       "        vertical-align: middle;\n",
       "    }\n",
       "\n",
       "    .dataframe tbody tr th {\n",
       "        vertical-align: top;\n",
       "    }\n",
       "\n",
       "    .dataframe thead th {\n",
       "        text-align: right;\n",
       "    }\n",
       "</style>\n",
       "<table border=\"1\" class=\"dataframe\">\n",
       "  <thead>\n",
       "    <tr style=\"text-align: right;\">\n",
       "      <th></th>\n",
       "      <th>DBN</th>\n",
       "      <th>SCHOOL NAME</th>\n",
       "      <th>Num of SAT Test Takers</th>\n",
       "      <th>SAT Critical Reading Avg. Score</th>\n",
       "      <th>SAT Math Avg. Score</th>\n",
       "      <th>SAT Writing Avg. Score</th>\n",
       "    </tr>\n",
       "  </thead>\n",
       "  <tbody>\n",
       "    <tr>\n",
       "      <th>466</th>\n",
       "      <td>32K556</td>\n",
       "      <td>BUSHWICK LEADERS HIGH SCHOOL FOR ACADEMIC EXCE...</td>\n",
       "      <td>23</td>\n",
       "      <td>347</td>\n",
       "      <td>358</td>\n",
       "      <td>350</td>\n",
       "    </tr>\n",
       "    <tr>\n",
       "      <th>467</th>\n",
       "      <td>32K564</td>\n",
       "      <td>BUSHWICK COMMUNITY HIGH SCHOOL</td>\n",
       "      <td>24</td>\n",
       "      <td>359</td>\n",
       "      <td>317</td>\n",
       "      <td>358</td>\n",
       "    </tr>\n",
       "    <tr>\n",
       "      <th>471</th>\n",
       "      <td>75Q811</td>\n",
       "      <td>P.S. Q811</td>\n",
       "      <td>32</td>\n",
       "      <td>429</td>\n",
       "      <td>444</td>\n",
       "      <td>433</td>\n",
       "    </tr>\n",
       "    <tr>\n",
       "      <th>476</th>\n",
       "      <td>79Q950</td>\n",
       "      <td>GED PLUS s CITYWIDE</td>\n",
       "      <td>8</td>\n",
       "      <td>496</td>\n",
       "      <td>400</td>\n",
       "      <td>426</td>\n",
       "    </tr>\n",
       "    <tr>\n",
       "      <th>477</th>\n",
       "      <td>79X490</td>\n",
       "      <td>PHOENIX ACADEMY</td>\n",
       "      <td>9</td>\n",
       "      <td>367</td>\n",
       "      <td>370</td>\n",
       "      <td>360</td>\n",
       "    </tr>\n",
       "  </tbody>\n",
       "</table>\n",
       "</div>"
      ],
      "text/plain": [
       "        DBN                                        SCHOOL NAME  \\\n",
       "466  32K556  BUSHWICK LEADERS HIGH SCHOOL FOR ACADEMIC EXCE...   \n",
       "467  32K564                     BUSHWICK COMMUNITY HIGH SCHOOL   \n",
       "471  75Q811                                          P.S. Q811   \n",
       "476  79Q950                                GED PLUS s CITYWIDE   \n",
       "477  79X490                                    PHOENIX ACADEMY   \n",
       "\n",
       "    Num of SAT Test Takers SAT Critical Reading Avg. Score  \\\n",
       "466                     23                             347   \n",
       "467                     24                             359   \n",
       "471                     32                             429   \n",
       "476                      8                             496   \n",
       "477                      9                             367   \n",
       "\n",
       "    SAT Math Avg. Score SAT Writing Avg. Score  \n",
       "466                 358                    350  \n",
       "467                 317                    358  \n",
       "471                 444                    433  \n",
       "476                 400                    426  \n",
       "477                 370                    360  "
      ]
     },
     "execution_count": 4,
     "metadata": {},
     "output_type": "execute_result"
    }
   ],
   "source": [
    "import numpy as np\n",
    "df = df.replace('s', np.nan)\n",
    "df = df.dropna()\n",
    "df.tail()"
   ]
  },
  {
   "attachments": {},
   "cell_type": "markdown",
   "metadata": {},
   "source": [
    "2, visualization\n",
    "Since the first two digits are the district numbers, I sliced the first 2 digits and call value counts on it and plotted the bar graph\n",
    "The graph is the number of schools in each district"
   ]
  },
  {
   "cell_type": "code",
   "execution_count": 5,
   "metadata": {},
   "outputs": [
    {
     "data": {
      "text/plain": [
       "<AxesSubplot:>"
      ]
     },
     "execution_count": 5,
     "metadata": {},
     "output_type": "execute_result"
    },
    {
     "data": {
      "image/png": "[encoded data removed]",
      "text/plain": [
       "<Figure size 640x480 with 1 Axes>"
      ]
     },
     "metadata": {},
     "output_type": "display_data"
    }
   ],
   "source": [
    "df['DISTRICTNUMBER'] = df.DBN.apply(lambda x: x[:2])\n",
    "df.tail()\n",
    "df.DISTRICTNUMBER.value_counts().plot.bar()"
   ]
  },
  {
   "attachments": {},
   "cell_type": "markdown",
   "metadata": {},
   "source": [
    "3,calculate summary statistics\n",
    "I changed their types to Int64 using astype, then call describe() on them to get the statistics"
   ]
  },
  {
   "cell_type": "code",
   "execution_count": 6,
   "metadata": {},
   "outputs": [
    {
     "data": {
      "text/plain": [
       "count    421.000000\n",
       "mean     400.850356\n",
       "std       56.802783\n",
       "min      279.000000\n",
       "25%      368.000000\n",
       "50%      391.000000\n",
       "75%      416.000000\n",
       "max      679.000000\n",
       "Name: SAT Critical Reading Avg. Score, dtype: float64"
      ]
     },
     "execution_count": 6,
     "metadata": {},
     "output_type": "execute_result"
    }
   ],
   "source": [
    "df['SAT Critical Reading Avg. Score'] = df['SAT Critical Reading Avg. Score'].astype('Int64')\n",
    "df['SAT Math Avg. Score'] = df['SAT Math Avg. Score'].astype('Int64')\n",
    "df['SAT Writing Avg. Score'] = df['SAT Writing Avg. Score'].astype('Int64')\n",
    "df['SAT Critical Reading Avg. Score'].describe()"
   ]
  },
  {
   "cell_type": "code",
   "execution_count": 7,
   "metadata": {},
   "outputs": [
    {
     "data": {
      "text/plain": [
       "count    421.000000\n",
       "mean     393.985748\n",
       "std       58.635109\n",
       "min      286.000000\n",
       "25%      360.000000\n",
       "50%      381.000000\n",
       "75%      411.000000\n",
       "max      682.000000\n",
       "Name: SAT Writing Avg. Score, dtype: float64"
      ]
     },
     "execution_count": 7,
     "metadata": {},
     "output_type": "execute_result"
    }
   ],
   "source": [
    "df['SAT Writing Avg. Score'].describe()"
   ]
  },
  {
   "cell_type": "code",
   "execution_count": 8,
   "metadata": {},
   "outputs": [
    {
     "data": {
      "text/plain": [
       "count    421.000000\n",
       "mean     413.368171\n",
       "std       64.684655\n",
       "min      312.000000\n",
       "25%      371.000000\n",
       "50%      395.000000\n",
       "75%      437.000000\n",
       "max      735.000000\n",
       "Name: SAT Math Avg. Score, dtype: float64"
      ]
     },
     "execution_count": 8,
     "metadata": {},
     "output_type": "execute_result"
    }
   ],
   "source": [
    "df['SAT Math Avg. Score'].describe()"
   ]
  },
  {
   "attachments": {},
   "cell_type": "markdown",
   "metadata": {},
   "source": [
    "4,calculate value counts\n",
    "The following dictionary show the number of schools in each district"
   ]
  },
  {
   "cell_type": "code",
   "execution_count": 15,
   "metadata": {},
   "outputs": [
    {
     "data": {
      "text/plain": [
       "02    58\n",
       "10    26\n",
       "09    21\n",
       "17    18\n",
       "11    17\n",
       "13    16\n",
       "12    15\n",
       "07    15\n",
       "08    15\n",
       "14    14\n",
       "18    14\n",
       "24    13\n",
       "03    13\n",
       "31    12\n",
       "19    12\n",
       "15    11\n",
       "28    11\n",
       "27    11\n",
       "21    11\n",
       "25    11\n",
       "06    10\n",
       "29     9\n",
       "01     9\n",
       "05     9\n",
       "30     8\n",
       "04     7\n",
       "32     7\n",
       "23     6\n",
       "22     5\n",
       "26     5\n",
       "20     5\n",
       "16     4\n",
       "79     2\n",
       "75     1\n",
       "Name: DISTRICTNUMBER, dtype: int64"
      ]
     },
     "execution_count": 15,
     "metadata": {},
     "output_type": "execute_result"
    }
   ],
   "source": [
    "df.DISTRICTNUMBER.value_counts()"
   ]
  },
  {
   "cell_type": "code",
   "execution_count": null,
   "metadata": {},
   "outputs": [],
   "source": []
  }
 ],
 "metadata": {
  "kernelspec": {
   "display_name": "base",
   "language": "python",
   "name": "python3"
  },
  "language_info": {
   "codemirror_mode": {
    "name": "ipython",
    "version": 3
   },
   "file_extension": ".py",
   "mimetype": "text/x-python",
   "name": "python",
   "nbconvert_exporter": "python",
   "pygments_lexer": "ipython3",
   "version": "3.9.13"
  },
  "vscode": {
   "interpreter": {
    "hash": "acd4db10143382ff3e6a34f783e6849722f84f848c51274ad8cd1fe1cb6afa60"
   }
  }
 },
 "nbformat": 4,
 "nbformat_minor": 4
}
